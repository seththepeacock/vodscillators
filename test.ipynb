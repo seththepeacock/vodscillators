{
 "cells": [
  {
   "cell_type": "code",
   "execution_count": 21,
   "metadata": {},
   "outputs": [
    {
     "name": "stdout",
     "output_type": "stream",
     "text": [
      "The autoreload extension is already loaded. To reload it, use:\n",
      "  %reload_ext autoreload\n",
      "1.4999999999999996\n",
      "1.4999999999999987\n"
     ]
    }
   ],
   "source": [
    "%load_ext autoreload\n",
    "%autoreload\n",
    "from plots import get_spectrum\n",
    "import numpy as np\n",
    "import matplotlib.pyplot as plt\n",
    "from scipy.signal import welch\n",
    "\n",
    "sr = 1000\n",
    "t_max = 10\n",
    "tau = 1\n",
    "t = np.arange(0, t_max, 1/sr)\n",
    "\n",
    "wf = np.sin(2*np.pi*10*t) + np.sin(2*np.pi*20*t) + np.sin(2*np.pi*30*t)\n",
    "\n",
    "print(np.mean(wf**2))\n",
    "\n",
    "scaling = 'density'\n",
    "spec_d = get_spectrum(wf, sr, tau, win_type='hann', scaling=scaling)\n",
    "f = spec_d['freq_ax']\n",
    "s = spec_d['spectrum']\n",
    "\n",
    "print(np.sum(s)*tau)\n",
    "\n",
    "f_welch, s_welch = welch(wf, sr, nperseg=tau*sr, window='hann', scaling=scaling)\n",
    "\n",
    "\n",
    "\n"
   ]
  },
  {
   "cell_type": "code",
   "execution_count": null,
   "metadata": {},
   "outputs": [],
   "source": []
  }
 ],
 "metadata": {
  "kernelspec": {
   "display_name": "base",
   "language": "python",
   "name": "python3"
  },
  "language_info": {
   "codemirror_mode": {
    "name": "ipython",
    "version": 3
   },
   "file_extension": ".py",
   "mimetype": "text/x-python",
   "name": "python",
   "nbconvert_exporter": "python",
   "pygments_lexer": "ipython3",
   "version": "3.10.15"
  }
 },
 "nbformat": 4,
 "nbformat_minor": 2
}
